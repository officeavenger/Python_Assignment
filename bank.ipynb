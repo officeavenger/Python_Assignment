{
 "cells": [
  {
   "cell_type": "code",
   "execution_count": 1,
   "metadata": {},
   "outputs": [
    {
     "name": "stdout",
     "output_type": "stream",
     "text": [
      "Customer Account number : 10\n",
      "Customer Name : Pradumn\n",
      "Password : Pradumn@123\n",
      "Balance: 13066.666666666666\n",
      "Interest Rate : 8\n"
     ]
    }
   ],
   "source": [
    "class Bank:\n",
    "\n",
    "    pass\n",
    "\n",
    "def interest(customer):\n",
    "        customer.balance+=((customer.balance*customer.interest_rate)/1200)\n",
    "\n",
    "\n",
    "def deposit(customer):\n",
    "        if customer.deposit>0:\n",
    "          customer.balance += customer.deposit\n",
    "\n",
    "         \n",
    "\n",
    "def withdraw(customer,password):\n",
    "        if customer.amt_withdraw>0 and customer.amt_withdraw < customer.balance and customer.password==password:\n",
    "\n",
    "    #password != c.password\n",
    "            customer.balance-= customer.amt_withdraw\n",
    "        else:\n",
    "            print(\"Invalid \")\n",
    "\n",
    "       \n",
    "\n",
    "def account_info(customer):\n",
    "        return f\"Customer Account number : {customer.acc_number}\\nCustomer Name : {customer.name}\\nPassword : {customer.password}\\nBalance: {customer.balance}\\nInterest Rate : {customer.interest_rate}\"\n",
    "\n",
    "def create():    \n",
    "    customer=Bank()\n",
    "    customer.acc_number=10\n",
    "    customer.name=\"Aditi\"\n",
    "    customer.password=\"Aditi@2611\"\n",
    "    customer.balance=50000\n",
    "    customer.interest_rate=8\n",
    "    customer.deposit=5000\n",
    "    customer.amt_withdraw=3000\n",
    "    return customer\n",
    "\n",
    " \n",
    "c = create()\n",
    "\n",
    "if isinstance(c,Bank):\n",
    "    interest(c)\n",
    "    deposit(c)\n",
    "    withdraw(c,\"Aditi@2611\")\n",
    "    print(account_info(c))\n",
    "\n",
    "else:\n",
    "    print(\"Enter valid object\")"
   ]
  }
 ],
 "metadata": {
  "kernelspec": {
   "display_name": "Python 3",
   "language": "python",
   "name": "python3"
  },
  "language_info": {
   "codemirror_mode": {
    "name": "ipython",
    "version": 3
   },
   "file_extension": ".py",
   "mimetype": "text/x-python",
   "name": "python",
   "nbconvert_exporter": "python",
   "pygments_lexer": "ipython3",
   "version": "3.11.5"
  },
  "orig_nbformat": 4
 },
 "nbformat": 4,
 "nbformat_minor": 2
}
