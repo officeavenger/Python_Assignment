{
 "cells": [
  {
   "cell_type": "code",
   "execution_count": 2,
   "metadata": {},
   "outputs": [],
   "source": [
    "class BankAccount:\n",
    "    def __init__(self, account_number, name, password, balance, account_type):\n",
    "        self._id = account_number\n",
    "        self._name = name\n",
    "        self._balance = balance\n",
    "        self._password = password\n",
    "        self._account_type = account_type\n",
    "        self._interest_rate = 8\n",
    "\n",
    "    def check_balance(self):\n",
    "        return self._balance\n",
    "    def is_valid_transact_amount(self, amount):\n",
    "        if(amount > 0):\n",
    "            return True\n",
    "        raise Exception('Invalid Amount. Amount should be greater than 0')\n",
    "    \n",
    "    def withdraw(self, amount):\n",
    "        if self.is_valid_transact_amount(amount) :\n",
    "            self._balance -= amount\n",
    "            return True\n",
    "    \n",
    "    def deposit(self, amount):\n",
    "        if self.is_valid_transact_amount(amount):\n",
    "            self._balance += amount\n",
    "            return True\n",
    "\n",
    "    def credit_interest(self):\n",
    "        if not self._balance<=0:\n",
    "            interest = self._balance * self._interest_rate/1200\n",
    "            self.deposit(interest)\n",
    "\n",
    "    def get_info(self):\n",
    "        return f'{self._name} {self._balance}'\n",
    "\n",
    "class SavingsAccount(BankAccount):\n",
    "    def __init__(self, account_number, name, password, balance, min_balance=5000):\n",
    "        super().__init__(account_number, name, password, balance, account_type='SAVING')\n",
    "        self._interest_rate = 12\n",
    "        self._min_balance = min_balance\n",
    "    \n",
    "    \n",
    "    def get_max_withdrawal_amount(self):\n",
    "        return self._balance - self._min_balance\n",
    "    \n",
    "    def withdraw(self, amount):\n",
    "        if amount < self.get_max_withdrawal_amount(): \n",
    "            return super().withdraw(amount)\n",
    "    \n",
    "\n",
    "class CurrentAccount(BankAccount):\n",
    "    def __init__(self, account_number, name, password, balance):\n",
    "        super().__init__(account_number, name, password, balance, account_type='CURRENT')\n",
    "        self._interest_rate = 0\n",
    "        self._min_balance = 0\n",
    "    \n",
    "class OverDraftAccount(BankAccount):\n",
    "    def __init__(self, account_number, name, password, balance):\n",
    "        super().__init__(account_number, name, password, balance, account_type='OVERDRAFT')\n",
    "        self._interest_rate = 8\n",
    "        self._max_balance = 0\n",
    "        self._od_limit = 0\n",
    "        self._od_fee_interest = 1\n",
    "\n",
    "\n",
    "    def get_od_limit(self):\n",
    "        limit = self._max_balance / 10\n",
    "        return limit\n",
    "    \n",
    "    def get_max_withdrawal_amount(self):\n",
    "        return self._balance + self.get_od_limit()\n",
    "    \n",
    "    def calculate_od_fee(self, amount):\n",
    "        return (amount - self._balance)/100\n",
    "    \n",
    "    def withdraw(self, amount):\n",
    "        if(amount < self.get_max_withdrawal_amount()):\n",
    "            od_fee = self.calculate_od_fee(amount)\n",
    "            super().withdraw(amount)\n",
    "            super().withdraw(od_fee)\n",
    "            return True\n",
    "        return False\n",
    "    \n",
    "    def deposit(self, amount):\n",
    "        super().deposit(amount)\n",
    "        if self._balance > self._max_balance:\n",
    "            self._max_balance = self._balance\n",
    "    \n",
    "\n",
    "\n",
    "\n",
    "class Bank:\n",
    "    def __init__(self):\n",
    "        self.__accounts = []\n",
    "        self.__last_id = 1\n",
    "\n",
    "    def is_valid_account(self, account):\n",
    "        return isinstance(account, BankAccount)\n",
    "\n",
    "    def create_account(self, name,password, balance = 0,min_balance = 0 , account_type='SAVING'):\n",
    "        if account_type.upper()=='CURRENT' :\n",
    "            account = CurrentAccount(self.__last_id, name, password, balance)\n",
    "\n",
    "        elif account_type.upper()=='OVERDRAFT' :\n",
    "            account = OverDraftAccount(self.__last_id, name, password, balance)\n",
    "\n",
    "        else:\n",
    "            account = SavingsAccount(self.__last_id, name, password, balance, min_balance)\n",
    "\n",
    "        self.__accounts.append(account)\n",
    "        self.__last_id += 1\n",
    "        return account\n",
    "\n",
    "    def authenticate(self, account, password):\n",
    "        if self.is_valid_account(account):\n",
    "            return account._password == password\n",
    "        raise Exception('Invalid Credentials')\n",
    "    \n",
    "    def get_account(self, account_number):\n",
    "        for index, account in enumerate(self.__accounts):\n",
    "            if account._id == account_number:\n",
    "                return (index, account)\n",
    "        \n",
    "        raise Exception('Account does not exist')\n",
    "    \n",
    "    def get_account_type(self, account_type):\n",
    "        if(account_type == 'SAVING'):\n",
    "            return SavingsAccount\n",
    "        elif account_type == 'CURRENT':\n",
    "            return CurrentAccount   \n",
    "        elif account_type == 'OVERDRAFT':\n",
    "            return OverDraftAccount\n",
    "        else:\n",
    "            return None\n",
    "\n",
    "    def delete_account(self, account_number):\n",
    "        index, account = self.get_account(account_number)\n",
    "        self.__accounts.pop(index)\n",
    "\n",
    "    def transfer_money(self, from_account, to_account, amount):\n",
    "        if not self.is_valid_account(from_account) or not self.is_valid_account(to_account): \n",
    "            raise Exception('Invalid account object')\n",
    "        if from_account.withdraw(amount):\n",
    "            to_account.deposit(amount)\n",
    "            return True\n",
    "        raise Exception('Insufficient Funds')\n",
    "    \n",
    "    def info_all__accounts(self, account_type=''):\n",
    "        for account in self.__accounts:\n",
    "            print(f'Number : {account._id}\\t Name: {account._name}\\t Balance {account._balance}')\n",
    "    \n",
    "    def deposit(self, account, amount):\n",
    "        if self.is_valid_account(account):\n",
    "            account.deposit(amount)\n",
    "    \n",
    "\n",
    "    def withdraw(self, account, amount):\n",
    "        if self.is_valid_account(account):\n",
    "            account.withdraw(amount)\n",
    "\n",
    "    def credit_interest_all(self):\n",
    "        for account in self.__accounts:\n",
    "            account.credit_interest()\n",
    "\n",
    "class ATM: \n",
    "    \n",
    "    def __init__(self, Bank: Bank):\n",
    "        self.__Bank = Bank\n",
    "\n",
    "    def __get_user_after_auth(self):\n",
    "        account_number = int(input('Enter Account Number'))\n",
    "        password = input('Enter password')\n",
    "        index, account = self.__Bank.get_account(account_number)\n",
    "        print(self.__Bank)\n",
    "        if account :\n",
    "            if(self.__Bank.authenticate(account, password)):\n",
    "                return account\n",
    "\n",
    "            raise Exception('Invalid password')\n",
    "\n",
    "        raise Exception('Account does not exist')\n",
    "        \n",
    "\n",
    "    def check_balance(self):\n",
    "        account = self.__get_user_after_auth()\n",
    "        print(f'Available Balance : {account._balance}')\n",
    "\n",
    "    def cash_money(self):\n",
    "        account = self.__get_user_after_auth()  \n",
    "        amount = int(input('Enter Amount to withdraw'))\n",
    "        account.withdraw(amount)\n",
    "\n",
    "    \n"
   ]
  },
  {
   "cell_type": "code",
   "execution_count": 3,
   "metadata": {},
   "outputs": [],
   "source": [
    "hdfc = Bank()"
   ]
  },
  {
   "cell_type": "code",
   "execution_count": 4,
   "metadata": {},
   "outputs": [],
   "source": [
    "account1 = hdfc.create_account('Aditi', 'pass1', 52198)\n",
    "account2 = hdfc.create_account('Aditya', 'pass2',10000)\n",
    "account3 = hdfc.create_account('Harsh', 'pass3',52198 )\n"
   ]
  },
  {
   "cell_type": "code",
   "execution_count": 5,
   "metadata": {},
   "outputs": [
    {
     "data": {
      "text/plain": [
       "True"
      ]
     },
     "execution_count": 5,
     "metadata": {},
     "output_type": "execute_result"
    }
   ],
   "source": [
    "isinstance(account1, object)"
   ]
  },
  {
   "cell_type": "code",
   "execution_count": 6,
   "metadata": {},
   "outputs": [
    {
     "name": "stdout",
     "output_type": "stream",
     "text": [
      "Number : 1\t Name: Aditi\t Balance 52198\n",
      "Number : 2\t Name: Aditya\t Balance 10000\n",
      "Number : 3\t Name: Harsh\t Balance 52198\n"
     ]
    }
   ],
   "source": [
    "hdfc.info_all__accounts()"
   ]
  },
  {
   "cell_type": "code",
   "execution_count": 7,
   "metadata": {},
   "outputs": [
    {
     "ename": "Exception",
     "evalue": "Insufficient Funds",
     "output_type": "error",
     "traceback": [
      "\u001b[1;31m---------------------------------------------------------------------------\u001b[0m",
      "\u001b[1;31mException\u001b[0m                                 Traceback (most recent call last)",
      "\u001b[1;32mc:\\Users\\raiad\\Downloads\\assignment_7.ipynb Cell 6\u001b[0m line \u001b[0;36m1\n\u001b[1;32m----> <a href='vscode-notebook-cell:/c%3A/Users/raiad/Downloads/assignment_7.ipynb#W5sZmlsZQ%3D%3D?line=0'>1</a>\u001b[0m hdfc\u001b[39m.\u001b[39;49mtransfer_money(account1, account2, \u001b[39m100000\u001b[39;49m)\n",
      "\u001b[1;32mc:\\Users\\raiad\\Downloads\\assignment_7.ipynb Cell 6\u001b[0m line \u001b[0;36m1\n\u001b[0;32m    <a href='vscode-notebook-cell:/c%3A/Users/raiad/Downloads/assignment_7.ipynb#W5sZmlsZQ%3D%3D?line=142'>143</a>\u001b[0m     to_account\u001b[39m.\u001b[39mdeposit(amount)\n\u001b[0;32m    <a href='vscode-notebook-cell:/c%3A/Users/raiad/Downloads/assignment_7.ipynb#W5sZmlsZQ%3D%3D?line=143'>144</a>\u001b[0m     \u001b[39mreturn\u001b[39;00m \u001b[39mTrue\u001b[39;00m\n\u001b[1;32m--> <a href='vscode-notebook-cell:/c%3A/Users/raiad/Downloads/assignment_7.ipynb#W5sZmlsZQ%3D%3D?line=144'>145</a>\u001b[0m \u001b[39mraise\u001b[39;00m \u001b[39mException\u001b[39;00m(\u001b[39m'\u001b[39m\u001b[39mInsufficient Funds\u001b[39m\u001b[39m'\u001b[39m)\n",
      "\u001b[1;31mException\u001b[0m: Insufficient Funds"
     ]
    }
   ],
   "source": [
    "hdfc.transfer_money(account1, account2, 100000)\n"
   ]
  },
  {
   "cell_type": "code",
   "execution_count": 8,
   "metadata": {},
   "outputs": [],
   "source": [
    "hdfc.credit_interest_all()"
   ]
  },
  {
   "cell_type": "code",
   "execution_count": 9,
   "metadata": {},
   "outputs": [
    {
     "name": "stdout",
     "output_type": "stream",
     "text": [
      "Number : 1\t Name: Aditi\t Balance 52719.98\n",
      "Number : 2\t Name: Aditya\t Balance 10100.0\n",
      "Number : 3\t Name: Harsh\t Balance 52719.98\n"
     ]
    }
   ],
   "source": [
    "hdfc.info_all__accounts()"
   ]
  },
  {
   "cell_type": "code",
   "execution_count": 10,
   "metadata": {},
   "outputs": [
    {
     "data": {
      "text/plain": [
       "'Aditi 52719.98'"
      ]
     },
     "execution_count": 10,
     "metadata": {},
     "output_type": "execute_result"
    }
   ],
   "source": [
    "account1.get_info()"
   ]
  },
  {
   "cell_type": "code",
   "execution_count": 11,
   "metadata": {},
   "outputs": [],
   "source": [
    "hdfcatm = ATM(hdfc)"
   ]
  },
  {
   "cell_type": "code",
   "execution_count": 12,
   "metadata": {},
   "outputs": [
    {
     "ename": "ValueError",
     "evalue": "invalid literal for int() with base 10: ''",
     "output_type": "error",
     "traceback": [
      "\u001b[1;31m---------------------------------------------------------------------------\u001b[0m",
      "\u001b[1;31mValueError\u001b[0m                                Traceback (most recent call last)",
      "\u001b[1;32mc:\\Users\\raiad\\Downloads\\assignment_7.ipynb Cell 11\u001b[0m line \u001b[0;36m1\n\u001b[1;32m----> <a href='vscode-notebook-cell:/c%3A/Users/raiad/Downloads/assignment_7.ipynb#X13sZmlsZQ%3D%3D?line=0'>1</a>\u001b[0m hdfcatm\u001b[39m.\u001b[39;49mcheck_balance()\n",
      "\u001b[1;32mc:\\Users\\raiad\\Downloads\\assignment_7.ipynb Cell 11\u001b[0m line \u001b[0;36m1\n\u001b[0;32m    <a href='vscode-notebook-cell:/c%3A/Users/raiad/Downloads/assignment_7.ipynb#X13sZmlsZQ%3D%3D?line=182'>183</a>\u001b[0m \u001b[39mdef\u001b[39;00m \u001b[39mcheck_balance\u001b[39m(\u001b[39mself\u001b[39m):\n\u001b[1;32m--> <a href='vscode-notebook-cell:/c%3A/Users/raiad/Downloads/assignment_7.ipynb#X13sZmlsZQ%3D%3D?line=183'>184</a>\u001b[0m     account \u001b[39m=\u001b[39m \u001b[39mself\u001b[39;49m\u001b[39m.\u001b[39;49m__get_user_after_auth()\n\u001b[0;32m    <a href='vscode-notebook-cell:/c%3A/Users/raiad/Downloads/assignment_7.ipynb#X13sZmlsZQ%3D%3D?line=184'>185</a>\u001b[0m     \u001b[39mprint\u001b[39m(\u001b[39mf\u001b[39m\u001b[39m'\u001b[39m\u001b[39mAvailable Balance : \u001b[39m\u001b[39m{\u001b[39;00maccount\u001b[39m.\u001b[39m_balance\u001b[39m}\u001b[39;00m\u001b[39m'\u001b[39m)\n",
      "\u001b[1;32mc:\\Users\\raiad\\Downloads\\assignment_7.ipynb Cell 11\u001b[0m line \u001b[0;36m1\n\u001b[0;32m    <a href='vscode-notebook-cell:/c%3A/Users/raiad/Downloads/assignment_7.ipynb#X13sZmlsZQ%3D%3D?line=168'>169</a>\u001b[0m \u001b[39mdef\u001b[39;00m \u001b[39m__get_user_after_auth\u001b[39m(\u001b[39mself\u001b[39m):\n\u001b[1;32m--> <a href='vscode-notebook-cell:/c%3A/Users/raiad/Downloads/assignment_7.ipynb#X13sZmlsZQ%3D%3D?line=169'>170</a>\u001b[0m     account_number \u001b[39m=\u001b[39m \u001b[39mint\u001b[39;49m(\u001b[39minput\u001b[39;49m(\u001b[39m'\u001b[39;49m\u001b[39mEnter Account Number\u001b[39;49m\u001b[39m'\u001b[39;49m))\n\u001b[0;32m    <a href='vscode-notebook-cell:/c%3A/Users/raiad/Downloads/assignment_7.ipynb#X13sZmlsZQ%3D%3D?line=170'>171</a>\u001b[0m     password \u001b[39m=\u001b[39m \u001b[39minput\u001b[39m(\u001b[39m'\u001b[39m\u001b[39mEnter password\u001b[39m\u001b[39m'\u001b[39m)\n\u001b[0;32m    <a href='vscode-notebook-cell:/c%3A/Users/raiad/Downloads/assignment_7.ipynb#X13sZmlsZQ%3D%3D?line=171'>172</a>\u001b[0m     index, account \u001b[39m=\u001b[39m \u001b[39mself\u001b[39m\u001b[39m.\u001b[39m__Bank\u001b[39m.\u001b[39mget_account(account_number)\n",
      "\u001b[1;31mValueError\u001b[0m: invalid literal for int() with base 10: ''"
     ]
    }
   ],
   "source": [
    "hdfcatm.check_balance()"
   ]
  },
  {
   "cell_type": "code",
   "execution_count": null,
   "metadata": {},
   "outputs": [],
   "source": []
  },
  {
   "cell_type": "code",
   "execution_count": null,
   "metadata": {},
   "outputs": [],
   "source": []
  },
  {
   "cell_type": "code",
   "execution_count": null,
   "metadata": {},
   "outputs": [],
   "source": []
  },
  {
   "cell_type": "code",
   "execution_count": null,
   "metadata": {},
   "outputs": [],
   "source": []
  },
  {
   "cell_type": "code",
   "execution_count": null,
   "metadata": {},
   "outputs": [],
   "source": []
  },
  {
   "cell_type": "code",
   "execution_count": null,
   "metadata": {},
   "outputs": [],
   "source": []
  },
  {
   "cell_type": "code",
   "execution_count": null,
   "metadata": {},
   "outputs": [],
   "source": []
  },
  {
   "cell_type": "code",
   "execution_count": null,
   "metadata": {},
   "outputs": [],
   "source": []
  },
  {
   "cell_type": "code",
   "execution_count": null,
   "metadata": {},
   "outputs": [],
   "source": []
  },
  {
   "cell_type": "code",
   "execution_count": null,
   "metadata": {},
   "outputs": [],
   "source": []
  }
 ],
 "metadata": {
  "kernelspec": {
   "display_name": "Python 3",
   "language": "python",
   "name": "python3"
  },
  "language_info": {
   "codemirror_mode": {
    "name": "ipython",
    "version": 3
   },
   "file_extension": ".py",
   "mimetype": "text/x-python",
   "name": "python",
   "nbconvert_exporter": "python",
   "pygments_lexer": "ipython3",
   "version": "3.11.5"
  },
  "orig_nbformat": 4
 },
 "nbformat": 4,
 "nbformat_minor": 2
}
