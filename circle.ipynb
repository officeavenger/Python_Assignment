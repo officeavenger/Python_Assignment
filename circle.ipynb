{
 "cells": [
  {
   "cell_type": "code",
   "execution_count": 5,
   "metadata": {},
   "outputs": [
    {
     "name": "stdout",
     "output_type": "stream",
     "text": [
      "Circle with radius : 5 ,perimeter : 31.400000000000002 and area : 78.5 \n"
     ]
    }
   ],
   "source": [
    "\n",
    "class Circle:\n",
    "    pass\n",
    "def draw_Circle(r):\n",
    "    c=Circle()\n",
    "    if(r>0):\n",
    "        c.radius=r\n",
    "        calculate_area(c)\n",
    "        calculate_perimeter(c)\n",
    "        draw(c)\n",
    "    else:\n",
    "        print('Please enter a valid radius')\n",
    "\n",
    "def calculate_area(c):\n",
    "     c.area = 3.14 * (c.radius ** 2)\n",
    "\n",
    "\n",
    "def calculate_perimeter(c):\n",
    "        c.perimeter = 2 * 3.14 * c.radius\n",
    "\n",
    "def draw(c):\n",
    "    print(f\"Circle with radius : {c.radius} ,perimeter : {c.perimeter} and area : {c.area} \")\n",
    "     \n",
    "\n",
    "draw_Circle(5)"
   ]
  }
 ],
 "metadata": {
  "kernelspec": {
   "display_name": "Python 3",
   "language": "python",
   "name": "python3"
  },
  "language_info": {
   "codemirror_mode": {
    "name": "ipython",
    "version": 3
   },
   "file_extension": ".py",
   "mimetype": "text/x-python",
   "name": "python",
   "nbconvert_exporter": "python",
   "pygments_lexer": "ipython3",
   "version": "3.11.5"
  },
  "orig_nbformat": 4
 },
 "nbformat": 4,
 "nbformat_minor": 2
}
