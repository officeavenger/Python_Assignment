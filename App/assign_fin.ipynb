{
    "metadata": {
        "kernelspec": {
            "name": "SQL",
            "display_name": "SQL",
            "language": "sql"
        },
        "language_info": {
            "name": "sql",
            "version": ""
        }
    },
    "nbformat_minor": 2,
    "nbformat": 4,
    "cells": [
        {
            "cell_type": "code",
            "source": [
                "CREATE DATABASE assign_fin_db"
            ],
            "metadata": {
                "azdata_cell_guid": "3727732c-70ce-4e83-a871-a405c3f5623d",
                "language": "sql"
            },
            "outputs": [
                {
                    "output_type": "display_data",
                    "data": {
                        "text/html": "Commands completed successfully."
                    },
                    "metadata": {}
                },
                {
                    "output_type": "display_data",
                    "data": {
                        "text/html": "Total execution time: 00:00:00.588"
                    },
                    "metadata": {}
                }
            ],
            "execution_count": 33
        },
        {
            "cell_type": "code",
            "source": [
                "USE assign_fin_db"
            ],
            "metadata": {
                "language": "sql",
                "azdata_cell_guid": "4c321c0a-b123-4052-8554-dc3eee2afd7d"
            },
            "outputs": [
                {
                    "output_type": "display_data",
                    "data": {
                        "text/html": "Commands completed successfully."
                    },
                    "metadata": {}
                },
                {
                    "output_type": "display_data",
                    "data": {
                        "text/html": "Total execution time: 00:00:00.156"
                    },
                    "metadata": {}
                }
            ],
            "execution_count": 34
        },
        {
            "cell_type": "code",
            "source": [
                "CREATE TABLE Books (\r\n",
                "    bookid VARCHAR(50) PRIMARY KEY,\r\n",
                "    title VARCHAR(255),\r\n",
                "    details TEXT,\r\n",
                "    authorid VARCHAR(10) FOREIGN KEY (authorid) REFERENCES Authors(authorid)\r\n",
                ");"
            ],
            "metadata": {
                "language": "sql",
                "azdata_cell_guid": "600acb1d-da4f-4295-b413-f4ceb8c1b57e"
            },
            "outputs": [
                {
                    "output_type": "display_data",
                    "data": {
                        "text/html": "Commands completed successfully."
                    },
                    "metadata": {}
                },
                {
                    "output_type": "display_data",
                    "data": {
                        "text/html": "Total execution time: 00:00:00.022"
                    },
                    "metadata": {}
                }
            ],
            "execution_count": 83
        },
        {
            "cell_type": "code",
            "source": [
                "INSERT  \r\n",
                "\r\n",
                "    INTO  \r\n",
                "\r\n",
                "        Books(bookid,title,details,authorid)\r\n",
                "\r\n",
                "    VALUES \r\n",
                "\r\n",
                "        ('kane-and-abel','Kane and Abel','A book by jeffrey archer','j_a'),\r\n",
                "         \r\n",
                "        ('rashmirathi','Rashmirathi','A book by Ramdhari sing dinkar','r_s_d'), \r\n",
                "\r\n",
                "        ('sons-of-fortune','Sons of Fortune','A book by jeffrey archer','j_a'), \r\n",
                "\r\n",
                "        ('manas','Manas','A book by Vivek dutta mishra','v_d_m'), \r\n",
                "\r\n",
                "        ('summons','Summons','A book by John Grisham','j_g'), \r\n",
                "\r\n",
                "        ('five-point-someone','Five Point SomeOne','A book by Ramdhari sing dinkar','r_s_d'), \r\n",
                "\r\n",
                "        ('scion-of-ikshavaku','The Scion of Ikshavaku','A book by Amish','amish'), \r\n",
                "\r\n",
                "        ('the-accursed-god','The Accursed God','A book by Vivek dutta mishra','v_d_m'); \r\n",
                ""
            ],
            "metadata": {
                "language": "sql",
                "azdata_cell_guid": "9097db21-cfeb-41ec-8f1b-816a1a6a3f51"
            },
            "outputs": [
                {
                    "output_type": "display_data",
                    "data": {
                        "text/html": "(8 rows affected)"
                    },
                    "metadata": {}
                },
                {
                    "output_type": "display_data",
                    "data": {
                        "text/html": "Total execution time: 00:00:00.005"
                    },
                    "metadata": {}
                }
            ],
            "execution_count": 87
        },
        {
            "cell_type": "code",
            "source": [
                "CREATE TABLE Authors (\r\n",
                "    authorid VARCHAR(10) PRIMARY KEY ,\r\n",
                "    name VARCHAR(255),\r\n",
                "    bio TEXT,\r\n",
                ");"
            ],
            "metadata": {
                "language": "sql",
                "azdata_cell_guid": "27e0b2e8-67c0-4a28-b88c-c869eac81b50",
                "tags": []
            },
            "outputs": [
                {
                    "output_type": "display_data",
                    "data": {
                        "text/html": "Commands completed successfully."
                    },
                    "metadata": {}
                },
                {
                    "output_type": "display_data",
                    "data": {
                        "text/html": "Total execution time: 00:00:00.005"
                    },
                    "metadata": {}
                }
            ],
            "execution_count": 80
        },
        {
            "cell_type": "code",
            "source": [
                "INSERT into Authors(authorid,name,bio) VALUES('amish','Amish','Wrote the Scion of ikshvaku'),\r\n",
                "                                             ('c_b','Chetan Bhagat','Wrote many fictional stories'),\r\n",
                "                                             ('j_a','Jeffrey Archer','Wrote 2 books present in database'),\r\n",
                "                                             ('jk','JK Rowlings','Wrote 7 parts of Harry Potter'),\r\n",
                "                                             ('j_g','John Grisham','Wrote 1 book'),\r\n",
                "                                             ('r_s_d','Ramdhari Singh Dinkar','Wrote 2 books recorded in database'),\r\n",
                "                                             ('v_d_m','Vivek Dutta Mishra','Wrote 2 books');"
            ],
            "metadata": {
                "language": "sql",
                "azdata_cell_guid": "64626148-c2e5-4e00-9998-72ba1bec1cae"
            },
            "outputs": [
                {
                    "output_type": "display_data",
                    "data": {
                        "text/html": "(7 rows affected)"
                    },
                    "metadata": {}
                },
                {
                    "output_type": "display_data",
                    "data": {
                        "text/html": "Total execution time: 00:00:00.006"
                    },
                    "metadata": {}
                }
            ],
            "execution_count": 86
        },
        {
            "cell_type": "code",
            "source": [
                "CREATE TABLE Users (\r\n",
                "    userid INT PRIMARY KEY,\r\n",
                "    username VARCHAR(255),\r\n",
                "    password VARCHAR(255)\r\n",
                ");"
            ],
            "metadata": {
                "language": "sql",
                "azdata_cell_guid": "a9cdc712-83ee-4fd9-831b-eaca82b93d68"
            },
            "outputs": [
                {
                    "output_type": "display_data",
                    "data": {
                        "text/html": "Commands completed successfully."
                    },
                    "metadata": {}
                },
                {
                    "output_type": "display_data",
                    "data": {
                        "text/html": "Total execution time: 00:00:00.003"
                    },
                    "metadata": {}
                }
            ],
            "execution_count": 88
        },
        {
            "cell_type": "code",
            "source": [
                "INSERT  \r\n",
                "\r\n",
                "    INTO  \r\n",
                "\r\n",
                "        Users (userid,username,password) \r\n",
                "\r\n",
                "    VALUES \r\n",
                "\r\n",
                "        \r\n",
                "        (1,'Yasaswini','yassu@123'),\r\n",
                "        (2,'Rama','rama@123'),\r\n",
                "        (3,'Akanksha','aku@123');"
            ],
            "metadata": {
                "language": "sql",
                "azdata_cell_guid": "eedf8b36-a8a2-45ab-927d-471510fcdd0c"
            },
            "outputs": [
                {
                    "output_type": "display_data",
                    "data": {
                        "text/html": "(3 rows affected)"
                    },
                    "metadata": {}
                },
                {
                    "output_type": "display_data",
                    "data": {
                        "text/html": "Total execution time: 00:00:00.005"
                    },
                    "metadata": {}
                }
            ],
            "execution_count": 89
        },
        {
            "cell_type": "code",
            "source": [
                "CREATE TABLE Reviews (\r\n",
                "    reviewid INT ,\r\n",
                "    bookid VARCHAR(50) FOREIGN KEY (bookid) REFERENCES Books(bookid),\r\n",
                "    userid INT FOREIGN KEY (userid) REFERENCES Users(userid),\r\n",
                "    rating INT,\r\n",
                "    review_text TEXT\r\n",
                ");"
            ],
            "metadata": {
                "language": "sql",
                "azdata_cell_guid": "f6505c9a-959e-4072-b887-3cc7285a7e9a"
            },
            "outputs": [
                {
                    "output_type": "display_data",
                    "data": {
                        "text/html": "Commands completed successfully."
                    },
                    "metadata": {}
                },
                {
                    "output_type": "display_data",
                    "data": {
                        "text/html": "Total execution time: 00:00:00.006"
                    },
                    "metadata": {}
                }
            ],
            "execution_count": 104
        },
        {
            "cell_type": "code",
            "source": [
                "INSERT INTO  \r\n",
                "    REVIEWS(reviewid, bookid,userid, rating,review_text) \r\n",
                "VALUES \r\n",
                "    (1,'kane-and-abel',1,4,'Nice Book'),\r\n",
                "         \r\n",
                "    (2,'rashmirathi',2,3.5,'Good book'), \r\n",
                "\r\n",
                "    (3,'sons-of-fortune',3,4.5,'Thoughtfull'), \r\n",
                "\r\n",
                "    (4,'manas',1,4.7,'Good Book'), \r\n",
                "\r\n",
                "    (5,'summons',2,3.9,'Amazing'), \r\n",
                "\r\n",
                "    (6,'five-point-someone',3,3,'Great work'), \r\n",
                "\r\n",
                "    (7,'scion-of-ikshavaku',1,3.8,'Nice creativity'), \r\n",
                "\r\n",
                "    (8,'the-accursed-god',2,4.2,'Nice'); "
            ],
            "metadata": {
                "azdata_cell_guid": "99c32ade-98cd-459a-9b3c-5c4d6769d0ea",
                "language": "sql"
            },
            "outputs": [
                {
                    "output_type": "display_data",
                    "data": {
                        "text/html": "(8 rows affected)"
                    },
                    "metadata": {}
                },
                {
                    "output_type": "display_data",
                    "data": {
                        "text/html": "Total execution time: 00:00:00.010"
                    },
                    "metadata": {}
                }
            ],
            "execution_count": 105
        },
        {
            "cell_type": "code",
            "source": [
                "INSERT INTO  \r\n",
                "    REVIEWS(reviewid, bookid,userid, rating,review_text) \r\n",
                "VALUES \r\n",
                "    (1,'kane-and-abel',1,4,'Nice Book');"
            ],
            "metadata": {
                "language": "sql",
                "azdata_cell_guid": "8c1a2a14-c852-42b7-b257-a7b21e003dfb"
            },
            "outputs": [
                {
                    "output_type": "display_data",
                    "data": {
                        "text/html": "(1 row affected)"
                    },
                    "metadata": {}
                },
                {
                    "output_type": "display_data",
                    "data": {
                        "text/html": "Total execution time: 00:00:00.005"
                    },
                    "metadata": {}
                }
            ],
            "execution_count": 107
        },
        {
            "cell_type": "code",
            "source": [
                "SELECT * from Authors;"
            ],
            "metadata": {
                "language": "sql",
                "azdata_cell_guid": "53e2e744-68a5-48b4-8517-7210159a5c9d"
            },
            "outputs": [
                {
                    "output_type": "display_data",
                    "data": {
                        "text/html": "(7 rows affected)"
                    },
                    "metadata": {}
                },
                {
                    "output_type": "display_data",
                    "data": {
                        "text/html": "Total execution time: 00:00:00.005"
                    },
                    "metadata": {}
                },
                {
                    "output_type": "execute_result",
                    "metadata": {},
                    "execution_count": 92,
                    "data": {
                        "application/vnd.dataresource+json": {
                            "schema": {
                                "fields": [
                                    {
                                        "name": "authorid"
                                    },
                                    {
                                        "name": "name"
                                    },
                                    {
                                        "name": "bio"
                                    }
                                ]
                            },
                            "data": [
                                {
                                    "authorid": "amish",
                                    "name": "Amish",
                                    "bio": "Wrote the Scion of ikshvaku"
                                },
                                {
                                    "authorid": "c_b",
                                    "name": "Chetan Bhagat",
                                    "bio": "Wrote many fictional stories"
                                },
                                {
                                    "authorid": "j_a",
                                    "name": "Jeffrey Archer",
                                    "bio": "Wrote 2 books present in database"
                                },
                                {
                                    "authorid": "j_g",
                                    "name": "John Grisham",
                                    "bio": "Wrote 1 book"
                                },
                                {
                                    "authorid": "jk",
                                    "name": "JK Rowlings",
                                    "bio": "Wrote 7 parts of Harry Potter"
                                },
                                {
                                    "authorid": "r_s_d",
                                    "name": "Ramdhari Singh Dinkar",
                                    "bio": "Wrote 2 books recorded in database"
                                },
                                {
                                    "authorid": "v_d_m",
                                    "name": "Vivek Dutta Mishra",
                                    "bio": "Wrote 2 books"
                                }
                            ]
                        },
                        "text/html": [
                            "<table>",
                            "<tr><th>authorid</th><th>name</th><th>bio</th></tr>",
                            "<tr><td>amish</td><td>Amish</td><td>Wrote the Scion of ikshvaku</td></tr>",
                            "<tr><td>c_b</td><td>Chetan Bhagat</td><td>Wrote many fictional stories</td></tr>",
                            "<tr><td>j_a</td><td>Jeffrey Archer</td><td>Wrote 2 books present in database</td></tr>",
                            "<tr><td>j_g</td><td>John Grisham</td><td>Wrote 1 book</td></tr>",
                            "<tr><td>jk</td><td>JK Rowlings</td><td>Wrote 7 parts of Harry Potter</td></tr>",
                            "<tr><td>r_s_d</td><td>Ramdhari Singh Dinkar</td><td>Wrote 2 books recorded in database</td></tr>",
                            "<tr><td>v_d_m</td><td>Vivek Dutta Mishra</td><td>Wrote 2 books</td></tr>",
                            "</table>"
                        ]
                    }
                }
            ],
            "execution_count": 92
        },
        {
            "cell_type": "code",
            "source": [
                "select * from Users;"
            ],
            "metadata": {
                "language": "sql",
                "azdata_cell_guid": "70836a7e-02c8-42ce-810a-b64e61a4b264"
            },
            "outputs": [
                {
                    "output_type": "display_data",
                    "data": {
                        "text/html": "(3 rows affected)"
                    },
                    "metadata": {}
                },
                {
                    "output_type": "display_data",
                    "data": {
                        "text/html": "Total execution time: 00:00:00.004"
                    },
                    "metadata": {}
                },
                {
                    "output_type": "execute_result",
                    "metadata": {},
                    "execution_count": 93,
                    "data": {
                        "application/vnd.dataresource+json": {
                            "schema": {
                                "fields": [
                                    {
                                        "name": "userid"
                                    },
                                    {
                                        "name": "username"
                                    },
                                    {
                                        "name": "password"
                                    }
                                ]
                            },
                            "data": [
                                {
                                    "userid": "1",
                                    "username": "Yasaswini",
                                    "password": "yassu@123"
                                },
                                {
                                    "userid": "2",
                                    "username": "Rama",
                                    "password": "rama@123"
                                },
                                {
                                    "userid": "3",
                                    "username": "Akanksha",
                                    "password": "aku@123"
                                }
                            ]
                        },
                        "text/html": [
                            "<table>",
                            "<tr><th>userid</th><th>username</th><th>password</th></tr>",
                            "<tr><td>1</td><td>Yasaswini</td><td>yassu@123</td></tr>",
                            "<tr><td>2</td><td>Rama</td><td>rama@123</td></tr>",
                            "<tr><td>3</td><td>Akanksha</td><td>aku@123</td></tr>",
                            "</table>"
                        ]
                    }
                }
            ],
            "execution_count": 93
        },
        {
            "cell_type": "code",
            "source": [
                "SELECT * FROM Books;"
            ],
            "metadata": {
                "language": "sql",
                "azdata_cell_guid": "e749d19c-0f28-4bcd-84f0-e66c1f38562f"
            },
            "outputs": [
                {
                    "output_type": "display_data",
                    "data": {
                        "text/html": "(8 rows affected)"
                    },
                    "metadata": {}
                },
                {
                    "output_type": "display_data",
                    "data": {
                        "text/html": "Total execution time: 00:00:00.007"
                    },
                    "metadata": {}
                },
                {
                    "output_type": "execute_result",
                    "metadata": {},
                    "execution_count": 94,
                    "data": {
                        "application/vnd.dataresource+json": {
                            "schema": {
                                "fields": [
                                    {
                                        "name": "bookid"
                                    },
                                    {
                                        "name": "title"
                                    },
                                    {
                                        "name": "details"
                                    },
                                    {
                                        "name": "authorid"
                                    }
                                ]
                            },
                            "data": [
                                {
                                    "bookid": "five-point-someone",
                                    "title": "Five Point SomeOne",
                                    "details": "A book by Ramdhari sing dinkar",
                                    "authorid": "r_s_d"
                                },
                                {
                                    "bookid": "kane-and-abel",
                                    "title": "Kane and Abel",
                                    "details": "A book by jeffrey archer",
                                    "authorid": "j_a"
                                },
                                {
                                    "bookid": "manas",
                                    "title": "Manas",
                                    "details": "A book by Vivek dutta mishra",
                                    "authorid": "v_d_m"
                                },
                                {
                                    "bookid": "rashmirathi",
                                    "title": "Rashmirathi",
                                    "details": "A book by Ramdhari sing dinkar",
                                    "authorid": "r_s_d"
                                },
                                {
                                    "bookid": "scion-of-ikshavaku",
                                    "title": "The Scion of Ikshavaku",
                                    "details": "A book by Amish",
                                    "authorid": "amish"
                                },
                                {
                                    "bookid": "sons-of-fortune",
                                    "title": "Sons of Fortune",
                                    "details": "A book by jeffrey archer",
                                    "authorid": "j_a"
                                },
                                {
                                    "bookid": "summons",
                                    "title": "Summons",
                                    "details": "A book by John Grisham",
                                    "authorid": "j_g"
                                },
                                {
                                    "bookid": "the-accursed-god",
                                    "title": "The Accursed God",
                                    "details": "A book by Vivek dutta mishra",
                                    "authorid": "v_d_m"
                                }
                            ]
                        },
                        "text/html": [
                            "<table>",
                            "<tr><th>bookid</th><th>title</th><th>details</th><th>authorid</th></tr>",
                            "<tr><td>five-point-someone</td><td>Five Point SomeOne</td><td>A book by Ramdhari sing dinkar</td><td>r_s_d</td></tr>",
                            "<tr><td>kane-and-abel</td><td>Kane and Abel</td><td>A book by jeffrey archer</td><td>j_a</td></tr>",
                            "<tr><td>manas</td><td>Manas</td><td>A book by Vivek dutta mishra</td><td>v_d_m</td></tr>",
                            "<tr><td>rashmirathi</td><td>Rashmirathi</td><td>A book by Ramdhari sing dinkar</td><td>r_s_d</td></tr>",
                            "<tr><td>scion-of-ikshavaku</td><td>The Scion of Ikshavaku</td><td>A book by Amish</td><td>amish</td></tr>",
                            "<tr><td>sons-of-fortune</td><td>Sons of Fortune</td><td>A book by jeffrey archer</td><td>j_a</td></tr>",
                            "<tr><td>summons</td><td>Summons</td><td>A book by John Grisham</td><td>j_g</td></tr>",
                            "<tr><td>the-accursed-god</td><td>The Accursed God</td><td>A book by Vivek dutta mishra</td><td>v_d_m</td></tr>",
                            "</table>"
                        ]
                    }
                }
            ],
            "execution_count": 94
        },
        {
            "cell_type": "code",
            "source": [
                "SELECT * FROM Reviews;"
            ],
            "metadata": {
                "language": "sql",
                "azdata_cell_guid": "18188f8f-b964-4221-b484-c03a69f6fdf4"
            },
            "outputs": [
                {
                    "output_type": "display_data",
                    "data": {
                        "text/html": "(8 rows affected)"
                    },
                    "metadata": {}
                },
                {
                    "output_type": "display_data",
                    "data": {
                        "text/html": "Total execution time: 00:00:00.004"
                    },
                    "metadata": {}
                },
                {
                    "output_type": "execute_result",
                    "metadata": {},
                    "execution_count": 95,
                    "data": {
                        "application/vnd.dataresource+json": {
                            "schema": {
                                "fields": [
                                    {
                                        "name": "reviewid"
                                    },
                                    {
                                        "name": "bookid"
                                    },
                                    {
                                        "name": "userid"
                                    },
                                    {
                                        "name": "rating"
                                    },
                                    {
                                        "name": "review_text"
                                    }
                                ]
                            },
                            "data": [
                                {
                                    "reviewid": "1",
                                    "bookid": "kane-and-abel",
                                    "userid": "1",
                                    "rating": "4",
                                    "review_text": "Nice Book"
                                },
                                {
                                    "reviewid": "2",
                                    "bookid": "rashmirathi",
                                    "userid": "2",
                                    "rating": "3",
                                    "review_text": "Good book"
                                },
                                {
                                    "reviewid": "3",
                                    "bookid": "sons-of-fortune",
                                    "userid": "3",
                                    "rating": "4",
                                    "review_text": "Thoughtfull"
                                },
                                {
                                    "reviewid": "4",
                                    "bookid": "manas",
                                    "userid": "1",
                                    "rating": "4",
                                    "review_text": "Good Book"
                                },
                                {
                                    "reviewid": "5",
                                    "bookid": "summons",
                                    "userid": "2",
                                    "rating": "3",
                                    "review_text": "Amazing"
                                },
                                {
                                    "reviewid": "6",
                                    "bookid": "five-point-someone",
                                    "userid": "3",
                                    "rating": "3",
                                    "review_text": "Great work"
                                },
                                {
                                    "reviewid": "7",
                                    "bookid": "scion-of-ikshavaku",
                                    "userid": "1",
                                    "rating": "3",
                                    "review_text": "Nice creativity"
                                },
                                {
                                    "reviewid": "8",
                                    "bookid": "the-accursed-god",
                                    "userid": "2",
                                    "rating": "4",
                                    "review_text": "Nice"
                                }
                            ]
                        },
                        "text/html": [
                            "<table>",
                            "<tr><th>reviewid</th><th>bookid</th><th>userid</th><th>rating</th><th>review_text</th></tr>",
                            "<tr><td>1</td><td>kane-and-abel</td><td>1</td><td>4</td><td>Nice Book</td></tr>",
                            "<tr><td>2</td><td>rashmirathi</td><td>2</td><td>3</td><td>Good book</td></tr>",
                            "<tr><td>3</td><td>sons-of-fortune</td><td>3</td><td>4</td><td>Thoughtfull</td></tr>",
                            "<tr><td>4</td><td>manas</td><td>1</td><td>4</td><td>Good Book</td></tr>",
                            "<tr><td>5</td><td>summons</td><td>2</td><td>3</td><td>Amazing</td></tr>",
                            "<tr><td>6</td><td>five-point-someone</td><td>3</td><td>3</td><td>Great work</td></tr>",
                            "<tr><td>7</td><td>scion-of-ikshavaku</td><td>1</td><td>3</td><td>Nice creativity</td></tr>",
                            "<tr><td>8</td><td>the-accursed-god</td><td>2</td><td>4</td><td>Nice</td></tr>",
                            "</table>"
                        ]
                    }
                }
            ],
            "execution_count": 95
        },
        {
            "cell_type": "code",
            "source": [
                "SELECT B.title, R.rating, R.review_text\r\n",
                "FROM Reviews R\r\n",
                "JOIN Books B ON R.bookid = B.bookid\r\n",
                "WHERE B.authorid = 'amish';"
            ],
            "metadata": {
                "language": "sql",
                "azdata_cell_guid": "8b7c9e3a-2243-4854-b1db-a894f3c41ae2"
            },
            "outputs": [
                {
                    "output_type": "display_data",
                    "data": {
                        "text/html": "(1 row affected)"
                    },
                    "metadata": {}
                },
                {
                    "output_type": "display_data",
                    "data": {
                        "text/html": "Total execution time: 00:00:00.035"
                    },
                    "metadata": {}
                },
                {
                    "output_type": "execute_result",
                    "metadata": {},
                    "execution_count": 97,
                    "data": {
                        "application/vnd.dataresource+json": {
                            "schema": {
                                "fields": [
                                    {
                                        "name": "title"
                                    },
                                    {
                                        "name": "rating"
                                    },
                                    {
                                        "name": "review_text"
                                    }
                                ]
                            },
                            "data": [
                                {
                                    "title": "The Scion of Ikshavaku",
                                    "rating": "3",
                                    "review_text": "Nice creativity"
                                }
                            ]
                        },
                        "text/html": [
                            "<table>",
                            "<tr><th>title</th><th>rating</th><th>review_text</th></tr>",
                            "<tr><td>The Scion of Ikshavaku</td><td>3</td><td>Nice creativity</td></tr>",
                            "</table>"
                        ]
                    }
                }
            ],
            "execution_count": 97
        },
        {
            "cell_type": "code",
            "source": [
                "DROP TABLE Books;"
            ],
            "metadata": {
                "language": "sql",
                "azdata_cell_guid": "09c57548-1e68-4b7c-bd7b-a4570292592c"
            },
            "outputs": [
                {
                    "output_type": "display_data",
                    "data": {
                        "text/html": "Commands completed successfully."
                    },
                    "metadata": {}
                },
                {
                    "output_type": "display_data",
                    "data": {
                        "text/html": "Total execution time: 00:00:00.004"
                    },
                    "metadata": {}
                }
            ],
            "execution_count": 68
        },
        {
            "cell_type": "code",
            "source": [
                "DROP TABLE Authors;"
            ],
            "metadata": {
                "language": "sql",
                "azdata_cell_guid": "831e5b93-a67b-402c-85a5-a576be52a750"
            },
            "outputs": [
                {
                    "output_type": "display_data",
                    "data": {
                        "text/html": "Commands completed successfully."
                    },
                    "metadata": {}
                },
                {
                    "output_type": "display_data",
                    "data": {
                        "text/html": "Total execution time: 00:00:00.005"
                    },
                    "metadata": {}
                }
            ],
            "execution_count": 79
        },
        {
            "cell_type": "code",
            "source": [
                "DROP TABLE Users;"
            ],
            "metadata": {
                "language": "sql",
                "azdata_cell_guid": "4e1b4c67-508e-4236-8f90-82f769052c34"
            },
            "outputs": [
                {
                    "output_type": "display_data",
                    "data": {
                        "text/html": "Commands completed successfully."
                    },
                    "metadata": {}
                },
                {
                    "output_type": "display_data",
                    "data": {
                        "text/html": "Total execution time: 00:00:00.004"
                    },
                    "metadata": {}
                }
            ],
            "execution_count": 70
        },
        {
            "cell_type": "code",
            "source": [
                "DROP TABLE Reviews;"
            ],
            "metadata": {
                "language": "sql",
                "azdata_cell_guid": "cfe62ef4-78ae-4f19-9881-2626efc4c035"
            },
            "outputs": [
                {
                    "output_type": "display_data",
                    "data": {
                        "text/html": "Commands completed successfully."
                    },
                    "metadata": {}
                },
                {
                    "output_type": "display_data",
                    "data": {
                        "text/html": "Total execution time: 00:00:00.008"
                    },
                    "metadata": {}
                }
            ],
            "execution_count": 103
        },
        {
            "cell_type": "code",
            "source": [
                "SELECT B.title,B.details, R.rating, R.review_text \r\n",
                "                      FROM Reviews R\r\n",
                "                      JOIN Books B ON R.bookid = B.bookid\r\n",
                "                      WHERE R.reviewid = 1;"
            ],
            "metadata": {
                "language": "sql",
                "azdata_cell_guid": "6fbaacb0-a312-49cf-80f0-cb62db03ad25"
            },
            "outputs": [
                {
                    "output_type": "display_data",
                    "data": {
                        "text/html": "(1 row affected)"
                    },
                    "metadata": {}
                },
                {
                    "output_type": "display_data",
                    "data": {
                        "text/html": "Total execution time: 00:00:00.039"
                    },
                    "metadata": {}
                },
                {
                    "output_type": "execute_result",
                    "metadata": {},
                    "execution_count": 99,
                    "data": {
                        "application/vnd.dataresource+json": {
                            "schema": {
                                "fields": [
                                    {
                                        "name": "title"
                                    },
                                    {
                                        "name": "details"
                                    },
                                    {
                                        "name": "rating"
                                    },
                                    {
                                        "name": "review_text"
                                    }
                                ]
                            },
                            "data": [
                                {
                                    "title": "Kane and Abel",
                                    "details": "A book by jeffrey archer",
                                    "rating": "4",
                                    "review_text": "Nice Book"
                                }
                            ]
                        },
                        "text/html": [
                            "<table>",
                            "<tr><th>title</th><th>details</th><th>rating</th><th>review_text</th></tr>",
                            "<tr><td>Kane and Abel</td><td>A book by jeffrey archer</td><td>4</td><td>Nice Book</td></tr>",
                            "</table>"
                        ]
                    }
                }
            ],
            "execution_count": 99
        },
        {
            "cell_type": "code",
            "source": [
                "SELECT R.userid,B.title, R.rating, R.review_text\r\n",
                "FROM Reviews R\r\n",
                "JOIN Books B ON R.bookid = B.bookid\r\n",
                "WHERE R.userid = 1;"
            ],
            "metadata": {
                "language": "sql",
                "azdata_cell_guid": "3bfbef0b-aa4d-4da5-bfd9-3e1ab005157a"
            },
            "outputs": [
                {
                    "output_type": "display_data",
                    "data": {
                        "text/html": "(3 rows affected)"
                    },
                    "metadata": {}
                },
                {
                    "output_type": "display_data",
                    "data": {
                        "text/html": "Total execution time: 00:00:00.005"
                    },
                    "metadata": {}
                },
                {
                    "output_type": "execute_result",
                    "metadata": {},
                    "execution_count": 102,
                    "data": {
                        "application/vnd.dataresource+json": {
                            "schema": {
                                "fields": [
                                    {
                                        "name": "userid"
                                    },
                                    {
                                        "name": "title"
                                    },
                                    {
                                        "name": "rating"
                                    },
                                    {
                                        "name": "review_text"
                                    }
                                ]
                            },
                            "data": [
                                {
                                    "userid": "1",
                                    "title": "Kane and Abel",
                                    "rating": "4",
                                    "review_text": "Nice Book"
                                },
                                {
                                    "userid": "1",
                                    "title": "Manas",
                                    "rating": "4",
                                    "review_text": "Good Book"
                                },
                                {
                                    "userid": "1",
                                    "title": "The Scion of Ikshavaku",
                                    "rating": "3",
                                    "review_text": "Nice creativity"
                                }
                            ]
                        },
                        "text/html": [
                            "<table>",
                            "<tr><th>userid</th><th>title</th><th>rating</th><th>review_text</th></tr>",
                            "<tr><td>1</td><td>Kane and Abel</td><td>4</td><td>Nice Book</td></tr>",
                            "<tr><td>1</td><td>Manas</td><td>4</td><td>Good Book</td></tr>",
                            "<tr><td>1</td><td>The Scion of Ikshavaku</td><td>3</td><td>Nice creativity</td></tr>",
                            "</table>"
                        ]
                    }
                }
            ],
            "execution_count": 102
        }
    ]
}